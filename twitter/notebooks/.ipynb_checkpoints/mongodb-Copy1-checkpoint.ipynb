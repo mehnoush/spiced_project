{
 "cells": [
  {
   "cell_type": "markdown",
   "metadata": {},
   "source": [
    "# MongoDB\n",
    "\n",
    "> humongous: of an extremely large size. https://en.wiktionary.org/wiki/humongous\n",
    "\n",
    "\n",
    "\n",
    "### Characteristics\n",
    "\n",
    "- databases -> collections -> documents\n",
    "- document = JSON-like (nested) dictionaries\n",
    "- no schema required\n",
    "- easy to use\n",
    "- made for processing tons of data\n",
    "- built-in support for distributed architecture (replication, sharding)"
   ]
  },
  {
   "cell_type": "code",
   "execution_count": null,
   "metadata": {},
   "outputs": [],
   "source": [
    "!pip install pymongo"
   ]
  },
  {
   "cell_type": "code",
   "execution_count": null,
   "metadata": {},
   "outputs": [],
   "source": []
  },
  {
   "cell_type": "code",
   "execution_count": 1,
   "metadata": {
    "scrolled": true
   },
   "outputs": [],
   "source": [
    "import pymongo"
   ]
  },
  {
   "cell_type": "code",
   "execution_count": 3,
   "metadata": {},
   "outputs": [
    {
     "name": "stdout",
     "output_type": "stream",
     "text": [
      "         Name                   Command           State            Ports        \r\n",
      "--------------------------------------------------------------------------------\r\n",
      "06_data_pipeline_etl_1   python ./src/app.py      Exit 0                        \r\n",
      "06_data_pipeline_mongo   docker-entrypoint.sh     Up       0.0.0.0:27017->27017/\r\n",
      "db_1                     mongod                            tcp,:::27017->27017/t\r\n",
      "                                                           cp                   \r\n",
      "06_data_pipeline_tweet   python ./src/app.py      Exit 0                        \r\n",
      "_collector_1                                                                    \r\n"
     ]
    }
   ],
   "source": [
    "# is my mongodb-container running?\n",
    "!docker-compose ps"
   ]
  },
  {
   "cell_type": "markdown",
   "metadata": {},
   "source": [
    "## Connect to the DB Server"
   ]
  },
  {
   "cell_type": "code",
   "execution_count": 5,
   "metadata": {},
   "outputs": [],
   "source": [
    "# connect to the database inside the container\n",
    "client = pymongo.MongoClient(host='localhost', port=27017)\n",
    "\n",
    "# connect to the database from inside another container\n",
    "# client = pymongo.MongoClient('mongodb', 27017)"
   ]
  },
  {
   "cell_type": "markdown",
   "metadata": {},
   "source": [
    "### List databases"
   ]
  },
  {
   "cell_type": "code",
   "execution_count": 17,
   "metadata": {},
   "outputs": [
    {
     "data": {
      "text/plain": [
       "['admin', 'config', 'local', 'spiced']"
      ]
     },
     "execution_count": 17,
     "metadata": {},
     "output_type": "execute_result"
    }
   ],
   "source": [
    "# list available databases\n",
    "client.list_database_names()"
   ]
  },
  {
   "cell_type": "markdown",
   "metadata": {},
   "source": [
    "### List collections"
   ]
  },
  {
   "cell_type": "code",
   "execution_count": 18,
   "metadata": {},
   "outputs": [],
   "source": [
    "# use the spiced database\n",
    "db = client.spiced"
   ]
  },
  {
   "cell_type": "code",
   "execution_count": 19,
   "metadata": {},
   "outputs": [
    {
     "data": {
      "text/plain": [
       "Database(MongoClient(host=['localhost:27017'], document_class=dict, tz_aware=False, connect=True), 'spiced')"
      ]
     },
     "execution_count": 19,
     "metadata": {},
     "output_type": "execute_result"
    }
   ],
   "source": [
    "db"
   ]
  },
  {
   "cell_type": "code",
   "execution_count": 20,
   "metadata": {},
   "outputs": [
    {
     "data": {
      "text/plain": [
       "['students']"
      ]
     },
     "execution_count": 20,
     "metadata": {},
     "output_type": "execute_result"
    }
   ],
   "source": [
    "# list collections\n",
    "db.list_collection_names()"
   ]
  },
  {
   "cell_type": "code",
   "execution_count": 22,
   "metadata": {},
   "outputs": [
    {
     "data": {
      "text/plain": [
       "1"
      ]
     },
     "execution_count": 22,
     "metadata": {},
     "output_type": "execute_result"
    }
   ],
   "source": [
    "# count documents\n",
    "db.students.count_documents({})"
   ]
  },
  {
   "cell_type": "code",
   "execution_count": 29,
   "metadata": {},
   "outputs": [
    {
     "data": {
      "text/plain": [
       "{'_id': ObjectId('6141b3e46c8c2336c7878e6b'),\n",
       " 'name': 'Malte',\n",
       " 'faculty': 'Data science',\n",
       " 'shoe_size': 45,\n",
       " 'colors': ['red', 'grean', 'blue']}"
      ]
     },
     "execution_count": 29,
     "metadata": {},
     "output_type": "execute_result"
    }
   ],
   "source": [
    "db.students.find_one({'name':'Malte'})"
   ]
  },
  {
   "cell_type": "markdown",
   "metadata": {},
   "source": [
    "## Create"
   ]
  },
  {
   "cell_type": "code",
   "execution_count": 40,
   "metadata": {},
   "outputs": [
    {
     "data": {
      "text/plain": [
       "<pymongo.results.InsertOneResult at 0x7fa4a79375c0>"
      ]
     },
     "execution_count": 40,
     "metadata": {},
     "output_type": "execute_result"
    }
   ],
   "source": [
    "# insert a document\n",
    "\n",
    "doc = {\n",
    "    'name':'suba',\n",
    "    'faculty':'Data science',\n",
    "    'shoe_size':48,\n",
    "    'colors': ['red','grean','blue'],\n",
    "    'twitter_account':{'username': 'subha',\n",
    "    'followers':1200\n",
    "    }\n",
    "}\n",
    "\n",
    "# If the document does not have an _id field one will be added automatically!\n",
    "db.students.insert_one(doc)"
   ]
  },
  {
   "cell_type": "code",
   "execution_count": 51,
   "metadata": {},
   "outputs": [
    {
     "ename": "TypeError",
     "evalue": "insert_many() missing 1 required positional argument: 'documents'",
     "output_type": "error",
     "traceback": [
      "\u001b[0;31m---------------------------------------------------------------------------\u001b[0m",
      "\u001b[0;31mTypeError\u001b[0m                                 Traceback (most recent call last)",
      "\u001b[0;32m<ipython-input-51-f6ac2d74466c>\u001b[0m in \u001b[0;36m<module>\u001b[0;34m\u001b[0m\n\u001b[1;32m      3\u001b[0m \u001b[0mdocs\u001b[0m \u001b[0;34m=\u001b[0m \u001b[0;34m[\u001b[0m\u001b[0;34m...\u001b[0m\u001b[0;34m]\u001b[0m\u001b[0;34m\u001b[0m\u001b[0;34m\u001b[0m\u001b[0m\n\u001b[1;32m      4\u001b[0m \u001b[0;34m\u001b[0m\u001b[0m\n\u001b[0;32m----> 5\u001b[0;31m \u001b[0mdb\u001b[0m\u001b[0;34m.\u001b[0m\u001b[0mstudents\u001b[0m\u001b[0;34m.\u001b[0m\u001b[0minsert_many\u001b[0m\u001b[0;34m(\u001b[0m\u001b[0;34m)\u001b[0m\u001b[0;34m\u001b[0m\u001b[0;34m\u001b[0m\u001b[0m\n\u001b[0m",
      "\u001b[0;31mTypeError\u001b[0m: insert_many() missing 1 required positional argument: 'documents'"
     ]
    }
   ],
   "source": [
    "# insert several documents\n",
    "\n",
    "docs = [...]\n",
    "\n",
    "db.students.insert_many()"
   ]
  },
  {
   "cell_type": "markdown",
   "metadata": {},
   "source": [
    "## Read"
   ]
  },
  {
   "cell_type": "code",
   "execution_count": 42,
   "metadata": {},
   "outputs": [
    {
     "data": {
      "text/plain": [
       "{'_id': ObjectId('6141b2c86c8c2336c7878e6a'),\n",
       " 'name': 'Tianjun',\n",
       " 'faculty': 'Data science',\n",
       " 'shoe_size': 38}"
      ]
     },
     "execution_count": 42,
     "metadata": {},
     "output_type": "execute_result"
    }
   ],
   "source": [
    "# most recent document\n",
    "db.students.find_one()"
   ]
  },
  {
   "cell_type": "code",
   "execution_count": 43,
   "metadata": {},
   "outputs": [
    {
     "data": {
      "text/plain": [
       "{'_id': ObjectId('6141ba476c8c2336c7878e6d'),\n",
       " 'name': 'suba',\n",
       " 'faculty': 'Data science',\n",
       " 'shoe_size': 48,\n",
       " 'colors': ['red', 'grean', 'blue'],\n",
       " 'twitter_account': {'username': 'subha', 'followers': 1200}}"
      ]
     },
     "execution_count": 43,
     "metadata": {},
     "output_type": "execute_result"
    }
   ],
   "source": [
    "# filter\n",
    "db.students.find_one({\"twitter_account.username\":\"subha\"})"
   ]
  },
  {
   "cell_type": "code",
   "execution_count": 44,
   "metadata": {},
   "outputs": [
    {
     "name": "stdout",
     "output_type": "stream",
     "text": [
      "{'_id': ObjectId('6141b2c86c8c2336c7878e6a'), 'name': 'Tianjun', 'faculty': 'Data science', 'shoe_size': 38}\n",
      "{'_id': ObjectId('6141b3e46c8c2336c7878e6b'), 'name': 'Malte', 'faculty': 'Data science', 'shoe_size': 45, 'colors': ['red', 'grean', 'blue']}\n",
      "{'_id': ObjectId('6141b4df6c8c2336c7878e6c'), 'name': 'suba', 'faculty': 'Data science', 'shoe_size': 48, 'colors': ['red', 'grean', 'blue'], 'twitter_account': {'usernaame': 'subha', 'followers': 1200}}\n",
      "{'_id': ObjectId('6141ba476c8c2336c7878e6d'), 'name': 'suba', 'faculty': 'Data science', 'shoe_size': 48, 'colors': ['red', 'grean', 'blue'], 'twitter_account': {'username': 'subha', 'followers': 1200}}\n"
     ]
    }
   ],
   "source": [
    "# find several documents\n",
    "for doc in db.students.find():\n",
    "    print(doc)"
   ]
  },
  {
   "cell_type": "code",
   "execution_count": 45,
   "metadata": {},
   "outputs": [
    {
     "data": {
      "text/plain": [
       "{'_id': ObjectId('6141b3e46c8c2336c7878e6b'),\n",
       " 'name': 'Malte',\n",
       " 'faculty': 'Data science',\n",
       " 'shoe_size': 45,\n",
       " 'colors': ['red', 'grean', 'blue']}"
      ]
     },
     "execution_count": 45,
     "metadata": {},
     "output_type": "execute_result"
    }
   ],
   "source": [
    "# find all documents where shoe size>40is greater than 1977\n",
    "# https://docs.mongodb.com/manual/reference/operator/query/\n",
    "\n",
    "db.students.find_one({\"shoe_size\": {'$gt': 40}})"
   ]
  },
  {
   "cell_type": "markdown",
   "metadata": {},
   "source": [
    "## Delete"
   ]
  },
  {
   "cell_type": "code",
   "execution_count": 47,
   "metadata": {},
   "outputs": [
    {
     "data": {
      "text/plain": [
       "<pymongo.results.DeleteResult at 0x7fa4a7ed0fc0>"
      ]
     },
     "execution_count": 47,
     "metadata": {},
     "output_type": "execute_result"
    }
   ],
   "source": [
    "db.students.delete_one({\"name\":\"subha\"})"
   ]
  },
  {
   "cell_type": "code",
   "execution_count": 50,
   "metadata": {},
   "outputs": [
    {
     "data": {
      "text/plain": [
       "0"
      ]
     },
     "execution_count": 50,
     "metadata": {},
     "output_type": "execute_result"
    }
   ],
   "source": [
    "db.students.count_documents({\"name\":\"subha\"})"
   ]
  },
  {
   "cell_type": "code",
   "execution_count": null,
   "metadata": {},
   "outputs": [],
   "source": [
    "# drop the collection\n",
    "db.students.???"
   ]
  }
 ],
 "metadata": {
  "kernelspec": {
   "display_name": "Python 3",
   "language": "python",
   "name": "python3"
  },
  "language_info": {
   "codemirror_mode": {
    "name": "ipython",
    "version": 3
   },
   "file_extension": ".py",
   "mimetype": "text/x-python",
   "name": "python",
   "nbconvert_exporter": "python",
   "pygments_lexer": "ipython3",
   "version": "3.8.8"
  }
 },
 "nbformat": 4,
 "nbformat_minor": 4
}
