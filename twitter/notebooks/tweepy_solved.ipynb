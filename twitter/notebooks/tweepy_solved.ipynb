{
 "cells": [
  {
   "cell_type": "markdown",
   "metadata": {},
   "source": [
    "# Twitter REST API\n",
    "\n",
    "> http://krspiced.pythonanywhere.com/chapters/project_pipeline/api/README.html#get-twitter-data"
   ]
  },
  {
   "cell_type": "code",
   "execution_count": 1,
   "metadata": {},
   "outputs": [],
   "source": [
    "# !pip install tweepy"
   ]
  },
  {
   "cell_type": "code",
   "execution_count": 9,
   "metadata": {
    "scrolled": true
   },
   "outputs": [],
   "source": [
    "import tweepy"
   ]
  },
  {
   "cell_type": "markdown",
   "metadata": {},
   "source": [
    "### Two levels of authentication\n",
    "\n",
    "##### app authentication\n",
    "\n",
    "- API_KEY, API_SECRET\n",
    "- requests on behalf of the app\n",
    "\n",
    "##### user authentication\n",
    "\n",
    "- ACCESS_TOKEN, ACCESS_TOKEN_SECRET\n",
    "- requests on behalf of the user\n",
    "- register your own app on [dev.twitter.com](https://developer.twitter.com/en) or use the script `get_user_authentication.py`"
   ]
  },
  {
   "cell_type": "code",
   "execution_count": 11,
   "metadata": {},
   "outputs": [],
   "source": [
    "# we should not keep credentials in our source code but we keep it simple...\n",
    "API_KEY = \"AO9qiiu6FfwrIGll0hGu0cxeS\"\n",
    "API_SECRET = \"q3FnJDzgV5vUiHt6d2hKSaLI2irAEV6juvzpywgixUr99CPQij\""
   ]
  },
  {
   "cell_type": "code",
   "execution_count": 7,
   "metadata": {},
   "outputs": [],
   "source": [
    "def get_auth_handler():\n",
    "    \"\"\"\n",
    "    Function for handling Twitter Authentication. See course material for \n",
    "    instructions on getting your own Twitter credentials.\n",
    "    \"\"\"\n",
    "    auth = tweepy.OAuthHandler(API_KEY, API_SECRET)\n",
    "    return auth\n",
    "\n",
    "\n",
    "def get_full_text(status):\n",
    "    \"\"\"Returns the full text of a (re)tweet\"\"\"\n",
    "    try:\n",
    "        return status.retweeted_status.full_text\n",
    "    except AttributeError:  # Not a Retweet\n",
    "        return status.full_text"
   ]
  },
  {
   "cell_type": "markdown",
   "metadata": {},
   "source": [
    "---\n",
    "### Users' timeline\n",
    "\n",
    "- https://developer.twitter.com/en/docs/twitter-api/v1/tweets/timelines/api-reference/get-statuses-user_timeline"
   ]
  },
  {
   "cell_type": "code",
   "execution_count": null,
   "metadata": {},
   "outputs": [],
   "source": [
    "if __name__ == '__main__':\n",
    "    \n",
    "    # setup    \n",
    "    auth = get_auth_handler()\n",
    "    api = tweepy.API(auth)\n",
    "    \n",
    "    # define the api method and the cursor\n",
    "    cursor = tweepy.Cursor(\n",
    "        api.user_timeline,\n",
    "        id='elonmusk',\n",
    "        tweet_mode='extended'\n",
    "    )\n",
    "    \n",
    "    # fetch data\n",
    "    for status in cursor.items(10):\n",
    "        tweet = {\n",
    "            'text': get_full_text(status),\n",
    "            'username': status.user.screen_name,\n",
    "            'followers_count': status.user.followers_count\n",
    "        }\n",
    "        print(tweet)"
   ]
  },
  {
   "cell_type": "markdown",
   "metadata": {},
   "source": [
    "### Searching for tweets\n",
    "\n",
    "- https://docs.tweepy.org/en/stable/api.html#API.search\n",
    "\n",
    "Read more about the search operators that you can pass for the`q` arument here:\n",
    "\n",
    "- https://developer.twitter.com/en/docs/twitter-api/v1/rules-and-filtering/search-operators"
   ]
  },
  {
   "cell_type": "code",
   "execution_count": null,
   "metadata": {},
   "outputs": [],
   "source": [
    "if __name__ == '__main__':\n",
    "    \n",
    "    # setup    \n",
    "    auth = get_auth_handler()\n",
    "    api = tweepy.API(auth)\n",
    "    \n",
    "    # define the api method and the cursor\n",
    "    cursor = tweepy.Cursor(\n",
    "        api.search, \n",
    "        q=\"afghanistan -filter:retweets -filter:replies -filter:links\", \n",
    "        tweet_mode=\"extended\", \n",
    "        lang='en',\n",
    "        result_type='recent'\n",
    "    )\n",
    "    \n",
    "    # fetch data\n",
    "    for status in cursor.items(10):\n",
    "        tweet = {\n",
    "            'text': get_full_text(status),\n",
    "            'username': status.user.screen_name,\n",
    "            'followers_count': status.user.followers_count,\n",
    "            'created_at': status.created_at\n",
    "        }\n",
    "        print(tweet)"
   ]
  }
 ],
 "metadata": {
  "kernelspec": {
   "display_name": "Python 3.7.4 64-bit ('base': conda)",
   "language": "python",
   "name": "python37464bitbasecondab2a026f224604662bbdce49af90faf4e"
  },
  "language_info": {
   "codemirror_mode": {
    "name": "ipython",
    "version": 3
   },
   "file_extension": ".py",
   "mimetype": "text/x-python",
   "name": "python",
   "nbconvert_exporter": "python",
   "pygments_lexer": "ipython3",
   "version": "3.7.9"
  }
 },
 "nbformat": 4,
 "nbformat_minor": 4
}
