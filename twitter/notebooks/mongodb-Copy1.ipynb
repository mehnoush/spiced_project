{
 "cells": [
  {
   "cell_type": "markdown",
   "metadata": {},
   "source": [
    "# MongoDB\n",
    "\n",
    "> humongous: of an extremely large size. https://en.wiktionary.org/wiki/humongous\n",
    "\n",
    "\n",
    "\n",
    "### Characteristics\n",
    "\n",
    "- databases -> collections -> documents\n",
    "- document = JSON-like (nested) dictionaries\n",
    "- no schema required\n",
    "- easy to use\n",
    "- made for processing tons of data\n",
    "- built-in support for distributed architecture (replication, sharding)"
   ]
  },
  {
   "cell_type": "code",
   "execution_count": null,
   "metadata": {},
   "outputs": [],
   "source": [
    "!pip install pymongo"
   ]
  },
  {
   "cell_type": "code",
   "execution_count": 16,
   "metadata": {},
   "outputs": [],
   "source": [
    "import tweepy"
   ]
  },
  {
   "cell_type": "code",
   "execution_count": 3,
   "metadata": {
    "scrolled": true
   },
   "outputs": [],
   "source": [
    "import pymongo"
   ]
  },
  {
   "cell_type": "code",
   "execution_count": 4,
   "metadata": {},
   "outputs": [
    {
     "name": "stdout",
     "output_type": "stream",
     "text": [
      "         Name                   Command           State            Ports        \r\n",
      "--------------------------------------------------------------------------------\r\n",
      "06_data_pipeline_etl_1   python ./src/app.py      Exit 0                        \r\n",
      "06_data_pipeline_mongo   docker-entrypoint.sh     Up       0.0.0.0:27017->27017/\r\n",
      "db_1                     mongod                            tcp,:::27017->27017/t\r\n",
      "                                                           cp                   \r\n",
      "06_data_pipeline_tweet   python ./src/app.py      Exit 0                        \r\n",
      "_collector_1                                                                    \r\n"
     ]
    }
   ],
   "source": [
    "# is my mongodb-container running?\n",
    "!docker-compose ps"
   ]
  },
  {
   "cell_type": "markdown",
   "metadata": {},
   "source": [
    "## Connect to the DB Server"
   ]
  },
  {
   "cell_type": "code",
   "execution_count": 5,
   "metadata": {},
   "outputs": [],
   "source": [
    "# connect to the database inside the container\n",
    "client = pymongo.MongoClient(host='localhost', port=27017)\n",
    "\n",
    "# connect to the database from inside another container\n",
    "# client = pymongo.MongoClient('mongodb', 27017)"
   ]
  },
  {
   "cell_type": "markdown",
   "metadata": {},
   "source": [
    "### List databases"
   ]
  },
  {
   "cell_type": "code",
   "execution_count": 6,
   "metadata": {},
   "outputs": [
    {
     "data": {
      "text/plain": [
       "['admin', 'config', 'local', 'spiced']"
      ]
     },
     "execution_count": 6,
     "metadata": {},
     "output_type": "execute_result"
    }
   ],
   "source": [
    "# list available databases\n",
    "client.list_database_names()"
   ]
  },
  {
   "cell_type": "markdown",
   "metadata": {},
   "source": [
    "### List collections"
   ]
  },
  {
   "cell_type": "code",
   "execution_count": 7,
   "metadata": {},
   "outputs": [],
   "source": [
    "# use the spiced database\n",
    "db = client.tweets"
   ]
  },
  {
   "cell_type": "code",
   "execution_count": 8,
   "metadata": {},
   "outputs": [
    {
     "data": {
      "text/plain": [
       "Database(MongoClient(host=['localhost:27017'], document_class=dict, tz_aware=False, connect=True), 'tweets')"
      ]
     },
     "execution_count": 8,
     "metadata": {},
     "output_type": "execute_result"
    }
   ],
   "source": [
    "db"
   ]
  },
  {
   "cell_type": "code",
   "execution_count": 9,
   "metadata": {},
   "outputs": [
    {
     "data": {
      "text/plain": [
       "[]"
      ]
     },
     "execution_count": 9,
     "metadata": {},
     "output_type": "execute_result"
    }
   ],
   "source": [
    "# list collections\n",
    "db.list_collection_names()"
   ]
  },
  {
   "cell_type": "code",
   "execution_count": 22,
   "metadata": {},
   "outputs": [
    {
     "data": {
      "text/plain": [
       "0"
      ]
     },
     "execution_count": 22,
     "metadata": {},
     "output_type": "execute_result"
    }
   ],
   "source": [
    "# count documents\n",
    "db.tweets.count_documents({})"
   ]
  },
  {
   "cell_type": "code",
   "execution_count": 23,
   "metadata": {},
   "outputs": [],
   "source": [
    "db.tweets.find_one({'name':'Malte'})"
   ]
  },
  {
   "cell_type": "markdown",
   "metadata": {},
   "source": [
    "## Create"
   ]
  },
  {
   "cell_type": "code",
   "execution_count": 24,
   "metadata": {},
   "outputs": [],
   "source": [
    "API_KEY = \"AO9qiiu6FfwrIGll0hGu0cxeS\"\n",
    "API_SECRET = \"q3FnJDzgV5vUiHt6d2hKSaLI2irAEV6juvzpywgixUr99CPQij\""
   ]
  },
  {
   "cell_type": "code",
   "execution_count": 25,
   "metadata": {},
   "outputs": [],
   "source": [
    "def get_auth_handler():\n",
    "    \"\"\"\n",
    "    Function for handling Twitter Authentication. See course material for \n",
    "    instructions on getting your own Twitter credentials.\n",
    "    \"\"\"\n",
    "    auth = tweepy.OAuthHandler(API_KEY, API_SECRET)\n",
    "    return auth"
   ]
  },
  {
   "cell_type": "code",
   "execution_count": 26,
   "metadata": {},
   "outputs": [],
   "source": [
    "def get_full_text(status):\n",
    "    \"\"\"Returns the full text of a (re)tweet\"\"\"\n",
    "    try:\n",
    "        return status.retweeted_status.full_text\n",
    "    except AttributeError:  # Not a Retweet\n",
    "        return status.full_text"
   ]
  },
  {
   "cell_type": "code",
   "execution_count": 27,
   "metadata": {},
   "outputs": [],
   "source": [
    "if __name__ == '__main__':\n",
    "    auth = get_auth_handler()\n",
    "    api = tweepy.API(auth)\n",
    "\n",
    "    # cursor = tweepy.Cursor(\n",
    "    #     api.user_timeline,\n",
    "    #     id='guardian',\n",
    "    #     tweet_mode='extended'\n",
    "    #  )\n",
    "    cursor = tweepy.Cursor(\n",
    "        api.search, \n",
    "        q=\"covid uk  from:guardian \", \n",
    "        tweet_mode=\"extended\", \n",
    "        lang='en',\n",
    "        result_type='recent'\n",
    "    )\n"
   ]
  },
  {
   "cell_type": "code",
   "execution_count": 28,
   "metadata": {},
   "outputs": [],
   "source": [
    "for status in cursor.items(50):\n",
    "        tweet = {\n",
    "            'text': get_full_text(status),\n",
    "            'username': status.user.screen_name,\n",
    "            'followers_count': status.user.followers_count\n",
    "            }"
   ]
  },
  {
   "cell_type": "code",
   "execution_count": 33,
   "metadata": {},
   "outputs": [
    {
     "data": {
      "text/plain": [
       "<pymongo.results.InsertOneResult at 0x7f2a28340b80>"
      ]
     },
     "execution_count": 33,
     "metadata": {},
     "output_type": "execute_result"
    }
   ],
   "source": [
    "# insert a document\n",
    "\n",
    "doc = tweet\n",
    "\n",
    "\n",
    "# If the document does not have an _id field one will be added automatically!\n",
    "db.tweets.insert_one(doc)"
   ]
  },
  {
   "cell_type": "code",
   "execution_count": 51,
   "metadata": {},
   "outputs": [
    {
     "ename": "TypeError",
     "evalue": "insert_many() missing 1 required positional argument: 'documents'",
     "output_type": "error",
     "traceback": [
      "\u001b[0;31m---------------------------------------------------------------------------\u001b[0m",
      "\u001b[0;31mTypeError\u001b[0m                                 Traceback (most recent call last)",
      "\u001b[0;32m<ipython-input-51-f6ac2d74466c>\u001b[0m in \u001b[0;36m<module>\u001b[0;34m\u001b[0m\n\u001b[1;32m      3\u001b[0m \u001b[0mdocs\u001b[0m \u001b[0;34m=\u001b[0m \u001b[0;34m[\u001b[0m\u001b[0;34m...\u001b[0m\u001b[0;34m]\u001b[0m\u001b[0;34m\u001b[0m\u001b[0;34m\u001b[0m\u001b[0m\n\u001b[1;32m      4\u001b[0m \u001b[0;34m\u001b[0m\u001b[0m\n\u001b[0;32m----> 5\u001b[0;31m \u001b[0mdb\u001b[0m\u001b[0;34m.\u001b[0m\u001b[0mstudents\u001b[0m\u001b[0;34m.\u001b[0m\u001b[0minsert_many\u001b[0m\u001b[0;34m(\u001b[0m\u001b[0;34m)\u001b[0m\u001b[0;34m\u001b[0m\u001b[0;34m\u001b[0m\u001b[0m\n\u001b[0m",
      "\u001b[0;31mTypeError\u001b[0m: insert_many() missing 1 required positional argument: 'documents'"
     ]
    }
   ],
   "source": [
    "# insert several documents\n",
    "\n",
    "docs = [...]\n",
    "\n",
    "db.students.insert_many()"
   ]
  },
  {
   "cell_type": "markdown",
   "metadata": {},
   "source": [
    "## Read"
   ]
  },
  {
   "cell_type": "code",
   "execution_count": 34,
   "metadata": {},
   "outputs": [
    {
     "data": {
      "text/plain": [
       "{'_id': ObjectId('6141c538bd001f2eabba39aa'),\n",
       " 'text': \"Giving booster shots before the world is vaccinated won't keep the UK safe from Covid | Charlotte Summers https://t.co/LdAGr4H9tj\",\n",
       " 'username': 'guardian',\n",
       " 'followers_count': 9910359}"
      ]
     },
     "execution_count": 34,
     "metadata": {},
     "output_type": "execute_result"
    }
   ],
   "source": [
    "# most recent document\n",
    "db.tweets.find_one()"
   ]
  },
  {
   "cell_type": "code",
   "execution_count": 37,
   "metadata": {},
   "outputs": [
    {
     "data": {
      "text/plain": [
       "{'_id': ObjectId('6141c538bd001f2eabba39aa'),\n",
       " 'text': \"Giving booster shots before the world is vaccinated won't keep the UK safe from Covid | Charlotte Summers https://t.co/LdAGr4H9tj\",\n",
       " 'username': 'guardian',\n",
       " 'followers_count': 9910359}"
      ]
     },
     "execution_count": 37,
     "metadata": {},
     "output_type": "execute_result"
    }
   ],
   "source": [
    "# filter\n",
    "db.tweets.find_one({'username':'guardian'})"
   ]
  },
  {
   "cell_type": "code",
   "execution_count": 38,
   "metadata": {},
   "outputs": [
    {
     "name": "stdout",
     "output_type": "stream",
     "text": [
      "{'_id': ObjectId('6141c538bd001f2eabba39aa'), 'text': \"Giving booster shots before the world is vaccinated won't keep the UK safe from Covid | Charlotte Summers https://t.co/LdAGr4H9tj\", 'username': 'guardian', 'followers_count': 9910359}\n"
     ]
    }
   ],
   "source": [
    "# find several documents\n",
    "for doc in db.tweets.find():\n",
    "    print(doc)"
   ]
  },
  {
   "cell_type": "code",
   "execution_count": 42,
   "metadata": {},
   "outputs": [
    {
     "data": {
      "text/plain": [
       "{'_id': ObjectId('6141c538bd001f2eabba39aa'),\n",
       " 'text': \"Giving booster shots before the world is vaccinated won't keep the UK safe from Covid | Charlotte Summers https://t.co/LdAGr4H9tj\",\n",
       " 'username': 'guardian',\n",
       " 'followers_count': 9910359}"
      ]
     },
     "execution_count": 42,
     "metadata": {},
     "output_type": "execute_result"
    }
   ],
   "source": [
    "# find all documents where shoe size>40is greater than 1977\n",
    "# https://docs.mongodb.com/manual/reference/operator/query/\n",
    "\n",
    "db.tweets.find_one({'followers_count':{'$gt':90000}})"
   ]
  },
  {
   "cell_type": "markdown",
   "metadata": {},
   "source": [
    "## Delete"
   ]
  },
  {
   "cell_type": "code",
   "execution_count": 47,
   "metadata": {},
   "outputs": [
    {
     "data": {
      "text/plain": [
       "<pymongo.results.DeleteResult at 0x7fa4a7ed0fc0>"
      ]
     },
     "execution_count": 47,
     "metadata": {},
     "output_type": "execute_result"
    }
   ],
   "source": [
    "db.students.delete_one({\"name\":\"subha\"})"
   ]
  },
  {
   "cell_type": "code",
   "execution_count": 47,
   "metadata": {},
   "outputs": [
    {
     "data": {
      "text/plain": [
       "1"
      ]
     },
     "execution_count": 47,
     "metadata": {},
     "output_type": "execute_result"
    }
   ],
   "source": [
    "db.tweets.count_documents({'followers_count':{'$gt':90000}})"
   ]
  },
  {
   "cell_type": "code",
   "execution_count": null,
   "metadata": {},
   "outputs": [],
   "source": [
    "# drop the collection\n",
    "db.students.???"
   ]
  }
 ],
 "metadata": {
  "kernelspec": {
   "display_name": "Python 3",
   "language": "python",
   "name": "python3"
  },
  "language_info": {
   "codemirror_mode": {
    "name": "ipython",
    "version": 3
   },
   "file_extension": ".py",
   "mimetype": "text/x-python",
   "name": "python",
   "nbconvert_exporter": "python",
   "pygments_lexer": "ipython3",
   "version": "3.8.8"
  }
 },
 "nbformat": 4,
 "nbformat_minor": 4
}
